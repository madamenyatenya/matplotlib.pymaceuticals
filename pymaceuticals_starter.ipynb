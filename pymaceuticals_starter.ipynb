{
 "cells": [
  {
   "cell_type": "code",
   "execution_count": 186,
   "metadata": {
    "scrolled": true
   },
   "outputs": [
    {
     "name": "stdout",
     "output_type": "stream",
     "text": [
      "\n",
      "------------- Merged data ---------------------------------------\n",
      "\n",
      "  Mouse ID  Timepoint  Tumor Volume (mm3)  Metastatic Sites       Drug\n",
      "0     b128          0                45.0                 0  Capomulin\n",
      "1     f932          0                45.0                 0   Ketapril\n",
      "2     g107          0                45.0                 0   Ketapril\n",
      "3     a457          0                45.0                 0   Ketapril\n",
      "4     c819          0                45.0                 0   Ketapril\n"
     ]
    }
   ],
   "source": [
    "# Dependencies and Setup\n",
    "import matplotlib.pyplot as plt\n",
    "import pandas as pd\n",
    "import numpy as np\n",
    "\n",
    "# \n",
    "import matplotlib.pyplot as plt\n",
    "import pandas as pd\n",
    "import numpy as np\n",
    "import warnings\n",
    "warnings.filterwarnings('ignore')\n",
    "\n",
    "# File to Load (Remember to Change These)\n",
    "mouse_drug_data_to_load = \"data/mouse_drug_data.csv\"\n",
    "clinical_trial_data_to_load = \"data/clinicaltrial_data.csv\"\n",
    "\n",
    "\n",
    "# Read the Mouse and Drug Data and the Clinical Trial Data\n",
    "mouse_drug_data = pd.read_csv(mouse_drug_data_to_load)\n",
    "clinical_trial_data = pd.read_csv(clinical_trial_data_to_load)\n",
    "\n",
    "# Combine the data into a single dataset\n",
    "\n",
    "Mouse_ID = clinical_trial_data['Mouse ID']\n",
    "Drug = []\n",
    "for ID in Mouse_ID:\n",
    "    m_Drug = np.array(mouse_drug_data.loc[ mouse_drug_data['Mouse ID']==ID,'Drug'])\n",
    "    Drug.append(m_Drug[0])\n",
    "\n",
    "clinical_labels = list(clinical_trial_data)\n",
    "mouse_drug_labels = list(mouse_drug_data)\n",
    "merged_label = clinical_labels;\n",
    "merged_label.append(mouse_drug_labels[1])\n",
    "\n",
    "panda_Drug = pd.DataFrame(Drug,columns=['Drug'])\n",
    "merged_data = pd.concat([clinical_trial_data, panda_Drug], axis=1,ignore_index=True )\n",
    "merged_data.columns = merged_label\n",
    "\n",
    "\n",
    "# Display the data table for preview\n",
    "\n",
    "print('\\n------------- Merged data ---------------------------------------\\n')\n",
    "print(merged_data.head())\n",
    "\n"
   ]
  },
  {
   "cell_type": "markdown",
   "metadata": {},
   "source": [
    "## Tumor Response to Treatment"
   ]
  },
  {
   "cell_type": "code",
   "execution_count": 187,
   "metadata": {
    "scrolled": true
   },
   "outputs": [
    {
     "name": "stdout",
     "output_type": "stream",
     "text": [
      "\n",
      "------------- Mean Tumor ---------------------------------------\n",
      "\n",
      "         Drug  Timepoint  Tumor Volume (mm3)\n",
      "0   Capomulin          0           45.000000\n",
      "1   Capomulin          5           44.266086\n",
      "2   Capomulin         10           43.084291\n",
      "3   Capomulin         15           42.064317\n",
      "4   Capomulin         20           40.716325\n",
      "5   Capomulin         25           39.939528\n",
      "6   Capomulin         30           38.769339\n",
      "7   Capomulin         35           37.816839\n",
      "8   Capomulin         40           36.958001\n",
      "9   Capomulin         45           36.236114\n",
      "10   Ceftamin          0           45.000000\n",
      "11   Ceftamin          5           46.503051\n",
      "12   Ceftamin         10           48.285125\n",
      "13   Ceftamin         15           50.094055\n",
      "14   Ceftamin         20           52.157049\n",
      "15   Ceftamin         25           54.287674\n",
      "16   Ceftamin         30           56.769517\n",
      "17   Ceftamin         35           58.827548\n",
      "18   Ceftamin         40           61.467895\n",
      "19   Ceftamin         45           64.132421\n",
      "20  Infubinol          0           45.000000\n",
      "21  Infubinol          5           47.062001\n",
      "22  Infubinol         10           49.403909\n",
      "23  Infubinol         15           51.296397\n",
      "24  Infubinol         20           53.197691\n",
      "25  Infubinol         25           55.715252\n",
      "26  Infubinol         30           58.299397\n",
      "27  Infubinol         35           60.742461\n",
      "28  Infubinol         40           63.162824\n",
      "29  Infubinol         45           65.755562\n",
      "..        ...        ...                 ...\n",
      "70   Ramicane          0           45.000000\n",
      "71   Ramicane          5           43.944859\n",
      "72   Ramicane         10           42.531957\n",
      "73   Ramicane         15           41.495061\n",
      "74   Ramicane         20           40.238325\n",
      "75   Ramicane         25           38.974300\n",
      "76   Ramicane         30           38.703137\n",
      "77   Ramicane         35           37.451996\n",
      "78   Ramicane         40           36.574081\n",
      "79   Ramicane         45           34.955595\n",
      "80   Stelasyn          0           45.000000\n",
      "81   Stelasyn          5           47.527452\n",
      "82   Stelasyn         10           49.463844\n",
      "83   Stelasyn         15           51.529409\n",
      "84   Stelasyn         20           54.067395\n",
      "85   Stelasyn         25           56.166123\n",
      "86   Stelasyn         30           59.826738\n",
      "87   Stelasyn         35           62.440699\n",
      "88   Stelasyn         40           65.356386\n",
      "89   Stelasyn         45           68.438310\n",
      "90  Zoniferol          0           45.000000\n",
      "91  Zoniferol          5           46.851818\n",
      "92  Zoniferol         10           48.689881\n",
      "93  Zoniferol         15           50.779059\n",
      "94  Zoniferol         20           53.170334\n",
      "95  Zoniferol         25           55.432935\n",
      "96  Zoniferol         30           57.713531\n",
      "97  Zoniferol         35           60.089372\n",
      "98  Zoniferol         40           62.916692\n",
      "99  Zoniferol         45           65.960888\n",
      "\n",
      "[100 rows x 3 columns]\n"
     ]
    }
   ],
   "source": [
    "# Store the Mean Tumor Volume Data Grouped by Drug and Timepoint \n",
    "\n",
    "unique_Drug = np.unique(merged_data['Drug'])\n",
    "unique_Timepoint = np.unique(merged_data['Timepoint'])\n",
    "\n",
    "Mean_Tumor_data = []\n",
    "for m_Drug in unique_Drug:\n",
    "    for m_Timepoint in unique_Timepoint:\n",
    "        values = np.array(merged_data.loc[(merged_data['Drug'] == m_Drug) & (merged_data['Timepoint'] == m_Timepoint), merged_label[2]])\n",
    "        Mean_Tumor_data.append([m_Drug, m_Timepoint, np.mean(values)])\n",
    "\n",
    "# Convert to DataFrame\n",
    "Data_Mean_Tumor = pd.DataFrame(Mean_Tumor_data, columns=['Drug','Timepoint','Tumor Volume (mm3)'])\n",
    "\n",
    "# Preview DataFrame\n",
    "\n",
    "print('\\n------------- Mean Tumor ---------------------------------------\\n')\n",
    "print(Data_Mean_Tumor)"
   ]
  },
  {
   "cell_type": "code",
   "execution_count": null,
   "metadata": {
    "scrolled": true
   },
   "outputs": [],
   "source": []
  },
  {
   "cell_type": "code",
   "execution_count": 188,
   "metadata": {},
   "outputs": [
    {
     "name": "stdout",
     "output_type": "stream",
     "text": [
      "\n",
      "------------- std Tumor ---------------------------------------\n",
      "\n",
      "        Drug  Timepoint  Tumor Volume (mm3)\n",
      "0  Capomulin          0            0.000000\n",
      "1  Capomulin          5            0.448593\n",
      "2  Capomulin         10            0.702684\n",
      "3  Capomulin         15            0.838617\n",
      "4  Capomulin         20            0.909731\n"
     ]
    }
   ],
   "source": [
    "# Store the Standard Error of Tumor Volumes Grouped by Drug and Timepoint\n",
    "std_Tumor_data = []\n",
    "for m_Drug in unique_Drug:\n",
    "    for m_Timepoint in unique_Timepoint:\n",
    "        values = np.array(merged_data.loc[(merged_data['Drug'] == m_Drug) & (merged_data['Timepoint'] == m_Timepoint), merged_label[2]])\n",
    "        std_Tumor_data.append([m_Drug, m_Timepoint, np.std(values)/np.sqrt(len(values)-1)])\n",
    "\n",
    "# Convert to DataFrame\n",
    "Data_std_Tumor = pd.DataFrame(std_Tumor_data, columns=['Drug','Timepoint','Tumor Volume (mm3)'])\n",
    "\n",
    "# Preview DataFrame\n",
    "print('\\n------------- std Tumor ---------------------------------------\\n')\n",
    "print(Data_std_Tumor.head())\n",
    "\n"
   ]
  },
  {
   "cell_type": "code",
   "execution_count": 189,
   "metadata": {},
   "outputs": [
    {
     "name": "stdout",
     "output_type": "stream",
     "text": [
      "\n",
      "------------- Re_format ---------------------------------------\n",
      "\n",
      "   Timepoint  Capomulin   Ceftamin  Infubinol   Ketapril   Naftisol  \\\n",
      "0          0  45.000000  45.000000  45.000000  45.000000  45.000000   \n",
      "1          5  44.266086  46.503051  47.062001  47.389175  46.796098   \n",
      "2         10  43.084291  48.285125  49.403909  49.582269  48.694210   \n",
      "3         15  42.064317  50.094055  51.296397  52.399974  50.933018   \n",
      "4         20  40.716325  52.157049  53.197691  54.920935  53.644087   \n",
      "\n",
      "     Placebo   Propriva   Ramicane   Stelasyn  Zoniferol  \n",
      "0  45.000000  45.000000  45.000000  45.000000  45.000000  \n",
      "1  47.125589  47.168130  43.944859  47.527452  46.851818  \n",
      "2  49.423329  48.938560  42.531957  49.463844  48.689881  \n",
      "3  51.359742  50.891769  41.495061  51.529409  50.779059  \n",
      "4  54.364417  53.127384  40.238325  54.067395  53.170334  \n"
     ]
    }
   ],
   "source": [
    "# Minor Data Munging to Re-Format the Data Frames\n",
    "Re_format_data = pd.DataFrame(unique_Timepoint, columns=['Timepoint'])\n",
    "for m_Drug in unique_Drug:\n",
    "    values = np.array(Data_Mean_Tumor.loc[(Data_Mean_Tumor['Drug'] == m_Drug) , 'Tumor Volume (mm3)'])\n",
    "    Re_format_data[m_Drug] = values\n",
    "\n",
    "\n",
    "# Preview that Reformatting worked\n",
    "\n",
    "print('\\n------------- Re_format ---------------------------------------\\n')\n",
    "print(Re_format_data.head())"
   ]
  },
  {
   "cell_type": "code",
   "execution_count": 190,
   "metadata": {},
   "outputs": [
    {
     "data": {
      "image/png": "[encoded data removed]",
      "text/plain": [
       "<Figure size 432x288 with 1 Axes>"
      ]
     },
     "metadata": {},
     "output_type": "display_data"
    }
   ],
   "source": [
    "# Generate the Plot (with Error Bars)\n",
    "plt.errorbar(Re_format_data['Timepoint'], Re_format_data[unique_Drug[0]],yerr=Data_std_Tumor.loc[(Data_std_Tumor['Drug'] == unique_Drug[0]) , 'Tumor Volume (mm3)'], fmt=\"ro:\")\n",
    "plt.errorbar(Re_format_data['Timepoint'], Re_format_data[unique_Drug[2]],yerr=Data_std_Tumor.loc[(Data_std_Tumor['Drug'] == unique_Drug[2]) , 'Tumor Volume (mm3)'], fmt=\"b^:\")\n",
    "plt.errorbar(Re_format_data['Timepoint'], Re_format_data[unique_Drug[3]],yerr=Data_std_Tumor.loc[(Data_std_Tumor['Drug'] == unique_Drug[3]) , 'Tumor Volume (mm3)'], fmt=\"gs:\")\n",
    "plt.errorbar(Re_format_data['Timepoint'], Re_format_data[unique_Drug[5]],yerr=Data_std_Tumor.loc[(Data_std_Tumor['Drug'] == unique_Drug[5]) , 'Tumor Volume (mm3)'], fmt=\"cd:\")\n",
    "plt.legend([unique_Drug[0],unique_Drug[2],unique_Drug[3],unique_Drug[5]],loc='upper left')\n",
    "plt.grid()\n",
    "plt.xlabel('Time(days)')\n",
    "plt.ylabel('Tumor Volume(mm3)')\n",
    "plt.title('Tumor Response to Treatment')\n",
    "# Save the Figure\n",
    "plt.savefig(\"Fig1.png\")\n",
    "plt.show()\n",
    "\n",
    "# Save the Figure\n",
    "\n"
   ]
  },
  {
   "cell_type": "code",
   "execution_count": 198,
   "metadata": {},
   "outputs": [],
   "source": [
    "# Show the Figure\n",
    "plt.show()"
   ]
  },
  {
   "cell_type": "markdown",
   "metadata": {},
   "source": [
    "## Metastatic Response to Treatment"
   ]
  },
  {
   "cell_type": "code",
   "execution_count": 192,
   "metadata": {},
   "outputs": [
    {
     "name": "stdout",
     "output_type": "stream",
     "text": [
      "\n",
      "------------- Mean Met ---------------------------------------\n",
      "\n",
      "        Drug  Timepoint  Metastatic Sites\n",
      "0  Capomulin          0          0.000000\n",
      "1  Capomulin          5          0.160000\n",
      "2  Capomulin         10          0.320000\n",
      "3  Capomulin         15          0.375000\n",
      "4  Capomulin         20          0.652174\n"
     ]
    }
   ],
   "source": [
    "# Store the Mean Met. Site Data Grouped by Drug and Timepoint \n",
    "Mean_Met_data = []\n",
    "for m_Drug in unique_Drug:\n",
    "    for m_Timepoint in unique_Timepoint:\n",
    "        values = np.array(merged_data.loc[(merged_data['Drug'] == m_Drug) & (merged_data['Timepoint'] == m_Timepoint), merged_label[3]])\n",
    "        Mean_Met_data.append([m_Drug, m_Timepoint, np.mean(values)])\n",
    "\n",
    "\n",
    "# Convert to DataFrame\n",
    "Data_Mean_Met = pd.DataFrame(Mean_Met_data, columns=['Drug','Timepoint',merged_label[3]])\n",
    "\n",
    "# Preview DataFrame\n",
    "print('\\n------------- Mean Met ---------------------------------------\\n')\n",
    "print(Data_Mean_Met.head())\n",
    "\n",
    "\n"
   ]
  },
  {
   "cell_type": "code",
   "execution_count": 218,
   "metadata": {
    "scrolled": true
   },
   "outputs": [
    {
     "name": "stdout",
     "output_type": "stream",
     "text": [
      "\n",
      "------------- std Met ---------------------------------------\n",
      "\n",
      "        Drug  Timepoint  Metastatic Sites\n",
      "0  Capomulin          0          0.000000\n",
      "1  Capomulin          5          0.074833\n",
      "2  Capomulin         10          0.125433\n",
      "3  Capomulin         15          0.132048\n",
      "4  Capomulin         20          0.161621\n"
     ]
    }
   ],
   "source": [
    "# Store the Standard Error associated with Met. Sites Grouped by Drug and Timepoint \n",
    "std_Met_data = []\n",
    "for m_Drug in unique_Drug:\n",
    "    for m_Timepoint in unique_Timepoint:\n",
    "        values = np.array(merged_data.loc[(merged_data['Drug'] == m_Drug) & (merged_data['Timepoint'] == m_Timepoint), merged_label[3]])\n",
    "        std_Met_data.append([m_Drug, m_Timepoint, np.std(values)/np.sqrt(len(values)-1)])\n",
    "\n",
    "# Convert to DataFrame\n",
    "Data_std_Met = pd.DataFrame(std_Met_data, columns=['Drug','Timepoint',merged_label[3]])\n",
    "\n",
    "# Preview DataFrame\n",
    "print('\\n------------- std Met ---------------------------------------\\n')\n",
    "print(Data_std_Met.head())"
   ]
  },
  {
   "cell_type": "code",
   "execution_count": 199,
   "metadata": {
    "scrolled": true
   },
   "outputs": [
    {
     "name": "stdout",
     "output_type": "stream",
     "text": [
      "\n",
      "------------- Met_Re_format ---------------------------------------\n",
      "\n",
      "   Timepoint  Capomulin  Ceftamin  Infubinol  Ketapril  Naftisol   Placebo  \\\n",
      "0          0   0.000000  0.000000   0.000000  0.000000  0.000000  0.000000   \n",
      "1          5   0.160000  0.380952   0.280000  0.304348  0.260870  0.375000   \n",
      "2         10   0.320000  0.600000   0.666667  0.590909  0.523810  0.833333   \n",
      "3         15   0.375000  0.789474   0.904762  0.842105  0.857143  1.250000   \n",
      "4         20   0.652174  1.111111   1.050000  1.210526  1.150000  1.526316   \n",
      "\n",
      "   Propriva  Ramicane  Stelasyn  Zoniferol  \n",
      "0  0.000000  0.000000  0.000000   0.000000  \n",
      "1  0.347826  0.120000  0.240000   0.166667  \n",
      "2  0.619048  0.250000  0.478261   0.500000  \n",
      "3  0.800000  0.333333  0.782609   0.809524  \n",
      "4  1.000000  0.347826  0.952381   1.294118  \n"
     ]
    }
   ],
   "source": [
    "# Minor Data Munging to Re-Format the Data Frames\n",
    "Met_Re_format_data = pd.DataFrame(unique_Timepoint, columns=['Timepoint'])\n",
    "for m_Drug in unique_Drug:\n",
    "    values = np.array(Data_Mean_Met.loc[(Data_Mean_Met['Drug'] == m_Drug), merged_label[3]])\n",
    "    Met_Re_format_data[m_Drug] = values\n",
    "    \n",
    "# Preview that Reformatting worked\n",
    "\n",
    "print('\\n------------- Met_Re_format ---------------------------------------\\n')\n",
    "print(Met_Re_format_data.head())"
   ]
  },
  {
   "cell_type": "code",
   "execution_count": null,
   "metadata": {
    "scrolled": true
   },
   "outputs": [],
   "source": [
    "# Generate the Plot (with Error Bars)\n",
    "\n",
    "plt.errorbar(Met_Re_format_data['Timepoint'], Met_Re_format_data[unique_Drug[0]],yerr=Data_std_Met.loc[(Data_std_Met['Drug'] == unique_Drug[0]) , merged_label[3]], fmt=\"ro:\")\n",
    "plt.errorbar(Met_Re_format_data['Timepoint'], Met_Re_format_data[unique_Drug[2]],yerr=Data_std_Met.loc[(Data_std_Met['Drug'] == unique_Drug[2]) , merged_label[3]], fmt=\"b^:\")\n",
    "plt.errorbar(Met_Re_format_data['Timepoint'], Met_Re_format_data[unique_Drug[3]],yerr=Data_std_Met.loc[(Data_std_Met['Drug'] == unique_Drug[3]) , merged_label[3]], fmt=\"gs:\")\n",
    "plt.errorbar(Met_Re_format_data['Timepoint'], Met_Re_format_data[unique_Drug[5]],yerr=Data_std_Met.loc[(Data_std_Met['Drug'] == unique_Drug[5]) , merged_label[3]], fmt=\"cd:\")\n",
    "plt.legend([unique_Drug[0],unique_Drug[2],unique_Drug[3],unique_Drug[5]],loc='upper left')\n",
    "plt.grid()\n",
    "plt.xlabel('Treatment Duration(Days)')\n",
    "plt.ylabel(merged_label[3])\n",
    "plt.title('Metastatic Spreed During Treatment')\n",
    "# Save the Figure\n",
    "plt.savefig(\"Fig2.png\")\n",
    "plt.show()\n"
   ]
  },
  {
   "cell_type": "markdown",
   "metadata": {},
   "source": [
    "## Survival Rates"
   ]
  },
  {
   "cell_type": "code",
   "execution_count": 200,
   "metadata": {},
   "outputs": [
    {
     "name": "stdout",
     "output_type": "stream",
     "text": [
      "\n",
      "------------- Mouse_count ---------------------------------------\n",
      "\n",
      "        Drug  Timepoint  Mouse Count\n",
      "0  Capomulin          0           25\n",
      "1  Capomulin          5           25\n",
      "2  Capomulin         10           25\n",
      "3  Capomulin         15           24\n",
      "4  Capomulin         20           23\n"
     ]
    }
   ],
   "source": [
    "# Store the Count of Mice Grouped by Drug and Timepoint (W can pass any metric)\n",
    "\n",
    "Mouse_count_data = []\n",
    "for m_Drug in unique_Drug:\n",
    "    for m_Timepoint in unique_Timepoint:\n",
    "        values = np.array(merged_data.loc[(merged_data['Drug'] == m_Drug) & (merged_data['Timepoint'] == m_Timepoint), merged_label[2]])\n",
    "        Mouse_count_data.append([m_Drug, m_Timepoint, len(values)])\n",
    "\n",
    "        # Convert to DataFrame\n",
    "Data_Mouse_count = pd.DataFrame(Mouse_count_data, columns=['Drug','Timepoint','Mouse Count'])\n",
    "\n",
    "# Preview DataFrame\n",
    "print('\\n------------- Mouse_count ---------------------------------------\\n')\n",
    "print(Data_Mouse_count.head())\n"
   ]
  },
  {
   "cell_type": "code",
   "execution_count": 201,
   "metadata": {},
   "outputs": [
    {
     "name": "stdout",
     "output_type": "stream",
     "text": [
      "\n",
      "------------- Mouse Mouse Re_format ---------------------------------------\n",
      "\n",
      "   Timepoint  Capomulin  Ceftamin  Infubinol  Ketapril  Naftisol  Placebo  \\\n",
      "0          0         25        25         25        25        25       25   \n",
      "1          5         25        21         25        23        23       24   \n",
      "2         10         25        20         21        22        21       24   \n",
      "3         15         24        19         21        19        21       20   \n",
      "4         20         23        18         20        19        20       19   \n",
      "\n",
      "   Propriva  Ramicane  Stelasyn  Zoniferol  \n",
      "0        24        25        26         25  \n",
      "1        23        25        25         24  \n",
      "2        21        24        23         22  \n",
      "3        15        24        23         21  \n",
      "4        15        23        21         17  \n"
     ]
    }
   ],
   "source": [
    "# Minor Data Munging to Re-Format the Data Frames\n",
    "Mouse_Re_format = pd.DataFrame(unique_Timepoint, columns=['Timepoint'])\n",
    "for m_Drug in unique_Drug:\n",
    "    values = np.array(Data_Mouse_count.loc[(Data_Mean_Met['Drug'] == m_Drug), 'Mouse Count'])\n",
    "    Mouse_Re_format[m_Drug] = values\n",
    "\n",
    "# Preview the Data Frame\n",
    "\n",
    "print('\\n------------- Mouse Mouse Re_format ---------------------------------------\\n')\n",
    "print(Mouse_Re_format.head())"
   ]
  },
  {
   "cell_type": "code",
   "execution_count": 202,
   "metadata": {},
   "outputs": [
    {
     "data": {
      "image/png": "[encoded data removed]",
      "text/plain": [
       "<Figure size 432x288 with 1 Axes>"
      ]
     },
     "metadata": {},
     "output_type": "display_data"
    }
   ],
   "source": [
    "# Generate the Plot (Accounting for percentages)\n",
    "plt.errorbar(Mouse_Re_format['Timepoint'], Mouse_Re_format[unique_Drug[0]]*100.0/np.max(np.array(Mouse_Re_format[unique_Drug[0]])), fmt=\"ro:\")\n",
    "plt.errorbar(Mouse_Re_format['Timepoint'], Mouse_Re_format[unique_Drug[2]]*100.0/np.max(np.array(Mouse_Re_format[unique_Drug[2]])), fmt=\"b^:\")\n",
    "plt.errorbar(Mouse_Re_format['Timepoint'], Mouse_Re_format[unique_Drug[3]]*100.0/np.max(np.array(Mouse_Re_format[unique_Drug[3]])), fmt=\"gs:\")\n",
    "plt.errorbar(Mouse_Re_format['Timepoint'], Mouse_Re_format[unique_Drug[5]]*100.0/np.max(np.array(Mouse_Re_format[unique_Drug[5]])), fmt=\"cd:\")\n",
    "plt.legend([unique_Drug[0],unique_Drug[2],unique_Drug[3],unique_Drug[5]],loc='lower left')\n",
    "plt.grid()\n",
    "plt.xlabel('Time(Days)')\n",
    "plt.ylabel('Survival Rate(%)')\n",
    "plt.title('Survivla During Treatment')\n",
    "\n",
    "# Save the Figure\n",
    "plt.savefig(\"Fig3.png\")\n",
    "\n",
    "# Show the Figure\n",
    "plt.show()"
   ]
  },
  {
   "cell_type": "code",
   "execution_count": 196,
   "metadata": {},
   "outputs": [
    {
     "name": "stdout",
     "output_type": "stream",
     "text": [
      "\n",
      "------------- Tumor_change_data ---------------------------------------\n",
      "\n",
      "        Drug  change_percent\n",
      "0  Capomulin      -19.475303\n",
      "1   Ceftamin       42.516492\n",
      "2  Infubinol       46.123472\n",
      "3   Ketapril       57.028795\n",
      "4   Naftisol       53.923347\n",
      "5    Placebo       51.297960\n",
      "6   Propriva       47.241175\n",
      "7   Ramicane      -22.320900\n",
      "8   Stelasyn       52.085134\n",
      "9  Zoniferol       46.579751\n"
     ]
    }
   ],
   "source": [
    "# Calculate the percent changes for each drug\n",
    "percent_change = []\n",
    "for m_Drug in unique_Drug:\n",
    "    values = np.array(Data_Mean_Tumor.loc[(Data_Mean_Tumor['Drug'] == m_Drug) , 'Tumor Volume (mm3)'])\n",
    "    percent_change.append((values[-1]-values[0])*100.0/values[0])\n",
    "\n",
    "Tumor_change_data = pd.DataFrame(columns=('Drug','change_percent'))\n",
    "Tumor_change_data.Drug = unique_Drug;\n",
    "Tumor_change_data.change_percent = percent_change;\n",
    "\n",
    "# Display the data to confirm\n",
    "\n",
    "print('\\n------------- Tumor_change_data ---------------------------------------\\n')\n",
    "print(Tumor_change_data)"
   ]
  },
  {
   "cell_type": "code",
   "execution_count": 230,
   "metadata": {
    "scrolled": true
   },
   "outputs": [
    {
     "data": {
      "image/png": "[encoded data removed]",
      "text/plain": [
       "<Figure size 432x288 with 1 Axes>"
      ]
     },
     "metadata": {},
     "output_type": "display_data"
    }
   ],
   "source": [
    "# Splice the data between passing and failing drugs\n",
    "list_Tumor_change_data1 = list_Tumor_change_data[[0,2,3,5],:]\n",
    "# Use functions to label the percentages of changes\n",
    "# Orient widths. Add labels, tick marks, etc.\n",
    "def plot_graph(ax, list_Tumor_change_data1):\n",
    "    for n in range(len(list_Tumor_change_data1)):\n",
    "        if list_Tumor_change_data1[n,1]<0:\n",
    "            ax.bar(n+0.5, list_Tumor_change_data1[n, 1], width=1, color='g')\n",
    "            ax.text(n+0.3, -3, str(np.round(list_Tumor_change_data1[n, 1]))+\"%\", size=10,color=\"w\")\n",
    "        else:\n",
    "            ax.bar(n+0.5, list_Tumor_change_data1[n, 1], width=1, color='r')\n",
    "            ax.text(n + 0.3, 3, str(np.round(list_Tumor_change_data1[n, 1])) + \"%\", size=10,color=\"w\")\n",
    "\n",
    "    ax.set_xticks([1, 2, 3, 4])\n",
    "    ax.set_xticklabels(list_Tumor_change_data1[:, 0])\n",
    "    ax.grid()\n",
    "    plt.ylabel('% Tumor Volnume Change')\n",
    "    plt.title('Tumor Change Over 45 Day Treatment')\n",
    "\n",
    "    return ax\n",
    "\n",
    "# Call functions to implement the function calls\n",
    "fig,ax = plt.subplots()\n",
    "ax = plot_graph(ax, list_Tumor_change_data1)\n",
    "\n",
    "# Save the Figure\n",
    "plt.savefig(\"Fig4.png\")\n",
    "\n",
    "# Show the Figure\n",
    "fig.show()\n"
   ]
  },
  {
   "cell_type": "code",
   "execution_count": null,
   "metadata": {},
   "outputs": [],
   "source": []
  },
  {
   "cell_type": "code",
   "execution_count": null,
   "metadata": {},
   "outputs": [],
   "source": []
  },
  {
   "cell_type": "code",
   "execution_count": null,
   "metadata": {},
   "outputs": [],
   "source": []
  }
 ],
 "metadata": {
  "anaconda-cloud": {},
  "kernelspec": {
   "display_name": "Python 3",
   "language": "python",
   "name": "python3"
  },
  "language_info": {
   "codemirror_mode": {
    "name": "ipython",
    "version": 3
   },
   "file_extension": ".py",
   "mimetype": "text/x-python",
   "name": "python",
   "nbconvert_exporter": "python",
   "pygments_lexer": "ipython3",
   "version": "3.6.5"
  }
 },
 "nbformat": 4,
 "nbformat_minor": 1
}
